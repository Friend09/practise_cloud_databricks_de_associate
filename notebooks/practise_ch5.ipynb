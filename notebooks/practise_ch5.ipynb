{
 "cells": [],
 "metadata": {
  "application/vnd.databricks.v1+notebook": {
   "computePreferences": null,
   "dashboards": [],
   "environmentMetadata": {
    "base_environment": "",
    "environment_version": "2"
   },
   "inputWidgetPreferences": null,
   "language": "sql",
   "notebookMetadata": {
    "pythonIndentUnit": 4
   },
   "notebookName": "practise_ch5",
   "widgets": {
    "db": {
     "currentValue": "db",
     "nuid": "3ccc35f8-9e34-4487-aab9-4990b13468d8",
     "typedWidgetInfo": {
      "autoCreated": false,
      "defaultValue": "db",
      "label": "Database",
      "name": "db",
      "options": {
       "widgetDisplayType": "Text",
       "validationRegex": null
      },
      "parameterDataType": "String"
     },
     "widgetInfo": {
      "widgetType": "text",
      "defaultValue": "db",
      "label": "Database",
      "name": "db",
      "options": {
       "widgetType": "text",
       "autoCreated": false,
       "validationRegex": null
      }
     }
    }
   }
  },
  "language_info": {
   "name": "sql"
  }
 },
 "nbformat": 4,
 "nbformat_minor": 0
}
